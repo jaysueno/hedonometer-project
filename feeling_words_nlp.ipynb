{
 "cells": [
  {
   "cell_type": "code",
   "execution_count": 51,
   "metadata": {},
   "outputs": [],
   "source": [
    "import requests\n",
    "import json\n",
    "import pandas as pd\n",
    "import csv\n",
    "# from ranked_words_nlp import words"
   ]
  },
  {
   "cell_type": "code",
   "execution_count": 9,
   "metadata": {},
   "outputs": [],
   "source": [
    "# r = requests.get(\"https://hedonometer.org/api/v1/words/?format=json&wordlist__title=labMT-en-v2\")"
   ]
  },
  {
   "cell_type": "code",
   "execution_count": 6,
   "metadata": {
    "scrolled": true
   },
   "outputs": [],
   "source": [
    "with open('ranked_words_nlp.json') as f:\n",
    "    data = json.load(f)\n"
   ]
  },
  {
   "cell_type": "code",
   "execution_count": 2,
   "metadata": {},
   "outputs": [],
   "source": [
    "# json.dumps(r[0], indent=5)"
   ]
  },
  {
   "cell_type": "code",
   "execution_count": 4,
   "metadata": {},
   "outputs": [],
   "source": [
    "# r[1]"
   ]
  },
  {
   "cell_type": "code",
   "execution_count": 11,
   "metadata": {},
   "outputs": [
    {
     "output_type": "stream",
     "name": "stdout",
     "text": [
      "\n\n"
     ]
    }
   ],
   "source": [
    "with open('ranked_words_nlp.json') as f:\n",
    "  data = json.load(f)\n",
    " \n",
    "# reading file\n",
    "for x in data:\n",
    "    print(x[50:100])\n"
   ]
  },
  {
   "cell_type": "code",
   "execution_count": 14,
   "metadata": {},
   "outputs": [
    {
     "output_type": "execute_result",
     "data": {
      "text/plain": [
       "2"
      ]
     },
     "metadata": {},
     "execution_count": 14
    }
   ],
   "source": [
    "len(data)"
   ]
  },
  {
   "cell_type": "code",
   "execution_count": 15,
   "metadata": {},
   "outputs": [],
   "source": [
    "g = open('ranked_words_nlp.json') "
   ]
  },
  {
   "cell_type": "code",
   "execution_count": 16,
   "metadata": {},
   "outputs": [
    {
     "output_type": "execute_result",
     "data": {
      "text/plain": [
       "<_io.TextIOWrapper name='ranked_words_nlp.json' mode='r' encoding='cp1252'>"
      ]
     },
     "metadata": {},
     "execution_count": 16
    }
   ],
   "source": [
    "g"
   ]
  },
  {
   "cell_type": "code",
   "execution_count": 27,
   "metadata": {},
   "outputs": [
    {
     "output_type": "error",
     "ename": "JSONDecodeError",
     "evalue": "Expecting value: line 1 column 1 (char 0)",
     "traceback": [
      "\u001b[1;31m---------------------------------------------------------------------------\u001b[0m",
      "\u001b[1;31mJSONDecodeError\u001b[0m                           Traceback (most recent call last)",
      "\u001b[1;32m<ipython-input-27-abc3a3b79db1>\u001b[0m in \u001b[0;36m<module>\u001b[1;34m\u001b[0m\n\u001b[1;32m----> 1\u001b[1;33m \u001b[0mdata\u001b[0m \u001b[1;33m=\u001b[0m \u001b[0mjson\u001b[0m\u001b[1;33m.\u001b[0m\u001b[0mload\u001b[0m\u001b[1;33m(\u001b[0m\u001b[0mg\u001b[0m\u001b[1;33m)\u001b[0m\u001b[1;33m\u001b[0m\u001b[1;33m\u001b[0m\u001b[0m\n\u001b[0m\u001b[0;32m      2\u001b[0m \u001b[1;31m# type(data)\u001b[0m\u001b[1;33m\u001b[0m\u001b[1;33m\u001b[0m\u001b[1;33m\u001b[0m\u001b[0m\n",
      "\u001b[1;32m~\\anaconda3\\lib\\json\\__init__.py\u001b[0m in \u001b[0;36mload\u001b[1;34m(fp, cls, object_hook, parse_float, parse_int, parse_constant, object_pairs_hook, **kw)\u001b[0m\n\u001b[0;32m    291\u001b[0m     \u001b[0mkwarg\u001b[0m\u001b[1;33m;\u001b[0m \u001b[0motherwise\u001b[0m\u001b[0;31m \u001b[0m\u001b[0;31m`\u001b[0m\u001b[0;31m`\u001b[0m\u001b[0mJSONDecoder\u001b[0m\u001b[0;31m`\u001b[0m\u001b[0;31m`\u001b[0m \u001b[1;32mis\u001b[0m \u001b[0mused\u001b[0m\u001b[1;33m.\u001b[0m\u001b[1;33m\u001b[0m\u001b[1;33m\u001b[0m\u001b[0m\n\u001b[0;32m    292\u001b[0m     \"\"\"\n\u001b[1;32m--> 293\u001b[1;33m     return loads(fp.read(),\n\u001b[0m\u001b[0;32m    294\u001b[0m         \u001b[0mcls\u001b[0m\u001b[1;33m=\u001b[0m\u001b[0mcls\u001b[0m\u001b[1;33m,\u001b[0m \u001b[0mobject_hook\u001b[0m\u001b[1;33m=\u001b[0m\u001b[0mobject_hook\u001b[0m\u001b[1;33m,\u001b[0m\u001b[1;33m\u001b[0m\u001b[1;33m\u001b[0m\u001b[0m\n\u001b[0;32m    295\u001b[0m         \u001b[0mparse_float\u001b[0m\u001b[1;33m=\u001b[0m\u001b[0mparse_float\u001b[0m\u001b[1;33m,\u001b[0m \u001b[0mparse_int\u001b[0m\u001b[1;33m=\u001b[0m\u001b[0mparse_int\u001b[0m\u001b[1;33m,\u001b[0m\u001b[1;33m\u001b[0m\u001b[1;33m\u001b[0m\u001b[0m\n",
      "\u001b[1;32m~\\anaconda3\\lib\\json\\__init__.py\u001b[0m in \u001b[0;36mloads\u001b[1;34m(s, cls, object_hook, parse_float, parse_int, parse_constant, object_pairs_hook, **kw)\u001b[0m\n\u001b[0;32m    355\u001b[0m             \u001b[0mparse_int\u001b[0m \u001b[1;32mis\u001b[0m \u001b[1;32mNone\u001b[0m \u001b[1;32mand\u001b[0m \u001b[0mparse_float\u001b[0m \u001b[1;32mis\u001b[0m \u001b[1;32mNone\u001b[0m \u001b[1;32mand\u001b[0m\u001b[1;33m\u001b[0m\u001b[1;33m\u001b[0m\u001b[0m\n\u001b[0;32m    356\u001b[0m             parse_constant is None and object_pairs_hook is None and not kw):\n\u001b[1;32m--> 357\u001b[1;33m         \u001b[1;32mreturn\u001b[0m \u001b[0m_default_decoder\u001b[0m\u001b[1;33m.\u001b[0m\u001b[0mdecode\u001b[0m\u001b[1;33m(\u001b[0m\u001b[0ms\u001b[0m\u001b[1;33m)\u001b[0m\u001b[1;33m\u001b[0m\u001b[1;33m\u001b[0m\u001b[0m\n\u001b[0m\u001b[0;32m    358\u001b[0m     \u001b[1;32mif\u001b[0m \u001b[0mcls\u001b[0m \u001b[1;32mis\u001b[0m \u001b[1;32mNone\u001b[0m\u001b[1;33m:\u001b[0m\u001b[1;33m\u001b[0m\u001b[1;33m\u001b[0m\u001b[0m\n\u001b[0;32m    359\u001b[0m         \u001b[0mcls\u001b[0m \u001b[1;33m=\u001b[0m \u001b[0mJSONDecoder\u001b[0m\u001b[1;33m\u001b[0m\u001b[1;33m\u001b[0m\u001b[0m\n",
      "\u001b[1;32m~\\anaconda3\\lib\\json\\decoder.py\u001b[0m in \u001b[0;36mdecode\u001b[1;34m(self, s, _w)\u001b[0m\n\u001b[0;32m    335\u001b[0m \u001b[1;33m\u001b[0m\u001b[0m\n\u001b[0;32m    336\u001b[0m         \"\"\"\n\u001b[1;32m--> 337\u001b[1;33m         \u001b[0mobj\u001b[0m\u001b[1;33m,\u001b[0m \u001b[0mend\u001b[0m \u001b[1;33m=\u001b[0m \u001b[0mself\u001b[0m\u001b[1;33m.\u001b[0m\u001b[0mraw_decode\u001b[0m\u001b[1;33m(\u001b[0m\u001b[0ms\u001b[0m\u001b[1;33m,\u001b[0m \u001b[0midx\u001b[0m\u001b[1;33m=\u001b[0m\u001b[0m_w\u001b[0m\u001b[1;33m(\u001b[0m\u001b[0ms\u001b[0m\u001b[1;33m,\u001b[0m \u001b[1;36m0\u001b[0m\u001b[1;33m)\u001b[0m\u001b[1;33m.\u001b[0m\u001b[0mend\u001b[0m\u001b[1;33m(\u001b[0m\u001b[1;33m)\u001b[0m\u001b[1;33m)\u001b[0m\u001b[1;33m\u001b[0m\u001b[1;33m\u001b[0m\u001b[0m\n\u001b[0m\u001b[0;32m    338\u001b[0m         \u001b[0mend\u001b[0m \u001b[1;33m=\u001b[0m \u001b[0m_w\u001b[0m\u001b[1;33m(\u001b[0m\u001b[0ms\u001b[0m\u001b[1;33m,\u001b[0m \u001b[0mend\u001b[0m\u001b[1;33m)\u001b[0m\u001b[1;33m.\u001b[0m\u001b[0mend\u001b[0m\u001b[1;33m(\u001b[0m\u001b[1;33m)\u001b[0m\u001b[1;33m\u001b[0m\u001b[1;33m\u001b[0m\u001b[0m\n\u001b[0;32m    339\u001b[0m         \u001b[1;32mif\u001b[0m \u001b[0mend\u001b[0m \u001b[1;33m!=\u001b[0m \u001b[0mlen\u001b[0m\u001b[1;33m(\u001b[0m\u001b[0ms\u001b[0m\u001b[1;33m)\u001b[0m\u001b[1;33m:\u001b[0m\u001b[1;33m\u001b[0m\u001b[1;33m\u001b[0m\u001b[0m\n",
      "\u001b[1;32m~\\anaconda3\\lib\\json\\decoder.py\u001b[0m in \u001b[0;36mraw_decode\u001b[1;34m(self, s, idx)\u001b[0m\n\u001b[0;32m    353\u001b[0m             \u001b[0mobj\u001b[0m\u001b[1;33m,\u001b[0m \u001b[0mend\u001b[0m \u001b[1;33m=\u001b[0m \u001b[0mself\u001b[0m\u001b[1;33m.\u001b[0m\u001b[0mscan_once\u001b[0m\u001b[1;33m(\u001b[0m\u001b[0ms\u001b[0m\u001b[1;33m,\u001b[0m \u001b[0midx\u001b[0m\u001b[1;33m)\u001b[0m\u001b[1;33m\u001b[0m\u001b[1;33m\u001b[0m\u001b[0m\n\u001b[0;32m    354\u001b[0m         \u001b[1;32mexcept\u001b[0m \u001b[0mStopIteration\u001b[0m \u001b[1;32mas\u001b[0m \u001b[0merr\u001b[0m\u001b[1;33m:\u001b[0m\u001b[1;33m\u001b[0m\u001b[1;33m\u001b[0m\u001b[0m\n\u001b[1;32m--> 355\u001b[1;33m             \u001b[1;32mraise\u001b[0m \u001b[0mJSONDecodeError\u001b[0m\u001b[1;33m(\u001b[0m\u001b[1;34m\"Expecting value\"\u001b[0m\u001b[1;33m,\u001b[0m \u001b[0ms\u001b[0m\u001b[1;33m,\u001b[0m \u001b[0merr\u001b[0m\u001b[1;33m.\u001b[0m\u001b[0mvalue\u001b[0m\u001b[1;33m)\u001b[0m \u001b[1;32mfrom\u001b[0m \u001b[1;32mNone\u001b[0m\u001b[1;33m\u001b[0m\u001b[1;33m\u001b[0m\u001b[0m\n\u001b[0m\u001b[0;32m    356\u001b[0m         \u001b[1;32mreturn\u001b[0m \u001b[0mobj\u001b[0m\u001b[1;33m,\u001b[0m \u001b[0mend\u001b[0m\u001b[1;33m\u001b[0m\u001b[1;33m\u001b[0m\u001b[0m\n",
      "\u001b[1;31mJSONDecodeError\u001b[0m: Expecting value: line 1 column 1 (char 0)"
     ]
    }
   ],
   "source": [
    "data = json.load(g)\n",
    "# type(data)"
   ]
  },
  {
   "cell_type": "code",
   "execution_count": 26,
   "metadata": {},
   "outputs": [
    {
     "output_type": "stream",
     "name": "stdout",
     "text": [
      "limit <class 'str'>\nnext <class 'str'>\noffset <class 'str'>\nprevious <class 'str'>\ntotal_count <class 'str'>\n"
     ]
    }
   ],
   "source": [
    "for i in data['meta']:\n",
    "    print(i, type(i))"
   ]
  },
  {
   "cell_type": "code",
   "execution_count": 33,
   "metadata": {},
   "outputs": [],
   "source": [
    "\n",
    "list = data['objects'][0]"
   ]
  },
  {
   "cell_type": "code",
   "execution_count": 37,
   "metadata": {},
   "outputs": [
    {
     "output_type": "execute_result",
     "data": {
      "text/plain": [
       "{'happs': 5.1,\n",
       " 'rank': 6648,\n",
       " 'stdDev': 0.99,\n",
       " 'text': 'according',\n",
       " 'word': 'according',\n",
       " 'word_english': 'according',\n",
       " 'wordlist': {'date': '2020-03-28',\n",
       "  'language': 'en',\n",
       "  'reference': 'https://arxiv.org/abs/2003.12614',\n",
       "  'referencetitle': \"How the world's collective attention is being paid to a pandemic: COVID-19 related 1-gram time series for 24 languages on Twitter\",\n",
       "  'title': 'labMT-en-v2'}}"
      ]
     },
     "metadata": {},
     "execution_count": 37
    }
   ],
   "source": [
    "list"
   ]
  },
  {
   "cell_type": "code",
   "execution_count": 42,
   "metadata": {},
   "outputs": [],
   "source": [
    "happs = []\n",
    "rank = []\n",
    "stdDev = []\n",
    "word = []\n",
    "\n",
    "for i in data['objects']:\n",
    "    happs.append(i['happs'])\n",
    "    rank.append(i['rank'])\n",
    "    stdDev.append(i['stdDev'])\n",
    "    word.append(i['word'])"
   ]
  },
  {
   "cell_type": "code",
   "execution_count": 45,
   "metadata": {},
   "outputs": [
    {
     "output_type": "execute_result",
     "data": {
      "text/plain": [
       "10187"
      ]
     },
     "metadata": {},
     "execution_count": 45
    }
   ],
   "source": [
    "len(rank)"
   ]
  },
  {
   "cell_type": "code",
   "execution_count": 47,
   "metadata": {},
   "outputs": [],
   "source": [
    "word_dict = {\n",
    "    'happs' : happs,\n",
    "    'rank' : rank,\n",
    "    'stdDev' : stdDev,\n",
    "    'word' : word\n",
    "}"
   ]
  },
  {
   "cell_type": "code",
   "execution_count": 49,
   "metadata": {},
   "outputs": [],
   "source": [
    "df = pd.DataFrame(word_dict)"
   ]
  },
  {
   "cell_type": "code",
   "execution_count": 59,
   "metadata": {},
   "outputs": [
    {
     "output_type": "execute_result",
     "data": {
      "text/plain": [
       "   happs  rank  stdDev            word\n",
       "0    5.1  6648    0.99       according\n",
       "1    5.1  6649    1.58  administrative\n",
       "2    5.1  6650    1.25          albert\n",
       "3    5.1  6651    1.31          alleen\n",
       "4    5.1  6652    1.30           allen"
      ],
      "text/html": "<div>\n<style scoped>\n    .dataframe tbody tr th:only-of-type {\n        vertical-align: middle;\n    }\n\n    .dataframe tbody tr th {\n        vertical-align: top;\n    }\n\n    .dataframe thead th {\n        text-align: right;\n    }\n</style>\n<table border=\"1\" class=\"dataframe\">\n  <thead>\n    <tr style=\"text-align: right;\">\n      <th></th>\n      <th>happs</th>\n      <th>rank</th>\n      <th>stdDev</th>\n      <th>word</th>\n    </tr>\n  </thead>\n  <tbody>\n    <tr>\n      <th>0</th>\n      <td>5.1</td>\n      <td>6648</td>\n      <td>0.99</td>\n      <td>according</td>\n    </tr>\n    <tr>\n      <th>1</th>\n      <td>5.1</td>\n      <td>6649</td>\n      <td>1.58</td>\n      <td>administrative</td>\n    </tr>\n    <tr>\n      <th>2</th>\n      <td>5.1</td>\n      <td>6650</td>\n      <td>1.25</td>\n      <td>albert</td>\n    </tr>\n    <tr>\n      <th>3</th>\n      <td>5.1</td>\n      <td>6651</td>\n      <td>1.31</td>\n      <td>alleen</td>\n    </tr>\n    <tr>\n      <th>4</th>\n      <td>5.1</td>\n      <td>6652</td>\n      <td>1.30</td>\n      <td>allen</td>\n    </tr>\n  </tbody>\n</table>\n</div>"
     },
     "metadata": {},
     "execution_count": 59
    }
   ],
   "source": [
    "df.head()"
   ]
  },
  {
   "cell_type": "code",
   "execution_count": 61,
   "metadata": {},
   "outputs": [
    {
     "output_type": "execute_result",
     "data": {
      "text/plain": [
       "8.5"
      ]
     },
     "metadata": {},
     "execution_count": 61
    }
   ],
   "source": [
    "df['happs'].max()"
   ]
  },
  {
   "cell_type": "code",
   "execution_count": 75,
   "metadata": {},
   "outputs": [],
   "source": [
    "is_max = (df['happs'] > 7.0)\n",
    "is_min = df['happs'] < 3\n"
   ]
  },
  {
   "cell_type": "code",
   "execution_count": 85,
   "metadata": {},
   "outputs": [
    {
     "output_type": "execute_result",
     "data": {
      "text/plain": [
       "      happs  rank  stdDev         word\n",
       "3539   8.50     0    0.93     laughter\n",
       "3540   8.44     1    0.97    happiness\n",
       "3541   8.42     2    1.11         love\n",
       "3542   8.30     3    0.99        happy\n",
       "3543   8.26     4    1.16      laughed\n",
       "3544   8.22     5    1.37        laugh\n",
       "3545   8.20     6    1.11     laughing\n",
       "3546   8.18     7    1.10    excellent\n",
       "3547   8.18     8    1.16       laughs\n",
       "3548   8.16     9    1.06          joy\n",
       "3549   8.16    10    1.08   successful\n",
       "3550   8.12    11    1.08          win\n",
       "3551   8.10    12    0.99      rainbow\n",
       "3552   8.10    13    1.02        smile\n",
       "3553   8.10    14    1.22          won\n",
       "3554   8.08    15    0.97     pleasure\n",
       "3555   8.08    16    1.07       smiled\n",
       "3556   8.06    17    1.36     rainbows\n",
       "3557   8.04    18    1.05      winning\n",
       "3558   8.02    19    1.53  celebration"
      ],
      "text/html": "<div>\n<style scoped>\n    .dataframe tbody tr th:only-of-type {\n        vertical-align: middle;\n    }\n\n    .dataframe tbody tr th {\n        vertical-align: top;\n    }\n\n    .dataframe thead th {\n        text-align: right;\n    }\n</style>\n<table border=\"1\" class=\"dataframe\">\n  <thead>\n    <tr style=\"text-align: right;\">\n      <th></th>\n      <th>happs</th>\n      <th>rank</th>\n      <th>stdDev</th>\n      <th>word</th>\n    </tr>\n  </thead>\n  <tbody>\n    <tr>\n      <th>3539</th>\n      <td>8.50</td>\n      <td>0</td>\n      <td>0.93</td>\n      <td>laughter</td>\n    </tr>\n    <tr>\n      <th>3540</th>\n      <td>8.44</td>\n      <td>1</td>\n      <td>0.97</td>\n      <td>happiness</td>\n    </tr>\n    <tr>\n      <th>3541</th>\n      <td>8.42</td>\n      <td>2</td>\n      <td>1.11</td>\n      <td>love</td>\n    </tr>\n    <tr>\n      <th>3542</th>\n      <td>8.30</td>\n      <td>3</td>\n      <td>0.99</td>\n      <td>happy</td>\n    </tr>\n    <tr>\n      <th>3543</th>\n      <td>8.26</td>\n      <td>4</td>\n      <td>1.16</td>\n      <td>laughed</td>\n    </tr>\n    <tr>\n      <th>3544</th>\n      <td>8.22</td>\n      <td>5</td>\n      <td>1.37</td>\n      <td>laugh</td>\n    </tr>\n    <tr>\n      <th>3545</th>\n      <td>8.20</td>\n      <td>6</td>\n      <td>1.11</td>\n      <td>laughing</td>\n    </tr>\n    <tr>\n      <th>3546</th>\n      <td>8.18</td>\n      <td>7</td>\n      <td>1.10</td>\n      <td>excellent</td>\n    </tr>\n    <tr>\n      <th>3547</th>\n      <td>8.18</td>\n      <td>8</td>\n      <td>1.16</td>\n      <td>laughs</td>\n    </tr>\n    <tr>\n      <th>3548</th>\n      <td>8.16</td>\n      <td>9</td>\n      <td>1.06</td>\n      <td>joy</td>\n    </tr>\n    <tr>\n      <th>3549</th>\n      <td>8.16</td>\n      <td>10</td>\n      <td>1.08</td>\n      <td>successful</td>\n    </tr>\n    <tr>\n      <th>3550</th>\n      <td>8.12</td>\n      <td>11</td>\n      <td>1.08</td>\n      <td>win</td>\n    </tr>\n    <tr>\n      <th>3551</th>\n      <td>8.10</td>\n      <td>12</td>\n      <td>0.99</td>\n      <td>rainbow</td>\n    </tr>\n    <tr>\n      <th>3552</th>\n      <td>8.10</td>\n      <td>13</td>\n      <td>1.02</td>\n      <td>smile</td>\n    </tr>\n    <tr>\n      <th>3553</th>\n      <td>8.10</td>\n      <td>14</td>\n      <td>1.22</td>\n      <td>won</td>\n    </tr>\n    <tr>\n      <th>3554</th>\n      <td>8.08</td>\n      <td>15</td>\n      <td>0.97</td>\n      <td>pleasure</td>\n    </tr>\n    <tr>\n      <th>3555</th>\n      <td>8.08</td>\n      <td>16</td>\n      <td>1.07</td>\n      <td>smiled</td>\n    </tr>\n    <tr>\n      <th>3556</th>\n      <td>8.06</td>\n      <td>17</td>\n      <td>1.36</td>\n      <td>rainbows</td>\n    </tr>\n    <tr>\n      <th>3557</th>\n      <td>8.04</td>\n      <td>18</td>\n      <td>1.05</td>\n      <td>winning</td>\n    </tr>\n    <tr>\n      <th>3558</th>\n      <td>8.02</td>\n      <td>19</td>\n      <td>1.53</td>\n      <td>celebration</td>\n    </tr>\n  </tbody>\n</table>\n</div>"
     },
     "metadata": {},
     "execution_count": 85
    }
   ],
   "source": [
    "df[is_max].head(20)"
   ]
  },
  {
   "cell_type": "code",
   "execution_count": 84,
   "metadata": {},
   "outputs": [
    {
     "output_type": "execute_result",
     "data": {
      "text/plain": [
       "      happs   rank  stdDev         word\n",
       "3520   1.30  10168    0.84      suicide\n",
       "3521   1.30  10169    0.91    terrorist\n",
       "3523   1.34  10171    0.66  coronavirus\n",
       "3519   1.44  10167    0.79         rape\n",
       "3518   1.48  10166    0.91    terrorism\n",
       "3517   1.48  10165    1.01       murder\n",
       "3516   1.54  10164    1.28        death\n",
       "3515   1.54  10163    1.07       cancer\n",
       "3512   1.56  10160    1.20         died\n",
       "3513   1.56  10161    1.05         kill\n",
       "3514   1.56  10162    1.23       killed\n",
       "3511   1.58  10159    1.05      torture\n",
       "3532   1.60  10180    1.01     pandemic\n",
       "3524   1.60  10172    0.76        covid\n",
       "3509   1.64  10157    1.14       deaths\n",
       "3510   1.64  10158    1.43        raped\n",
       "3508   1.64  10156    1.01     arrested\n",
       "3507   1.70  10155    1.36      killing\n",
       "3526   1.72  10174    0.99     epidemic\n",
       "3522   1.72  10170    0.97       corona"
      ],
      "text/html": "<div>\n<style scoped>\n    .dataframe tbody tr th:only-of-type {\n        vertical-align: middle;\n    }\n\n    .dataframe tbody tr th {\n        vertical-align: top;\n    }\n\n    .dataframe thead th {\n        text-align: right;\n    }\n</style>\n<table border=\"1\" class=\"dataframe\">\n  <thead>\n    <tr style=\"text-align: right;\">\n      <th></th>\n      <th>happs</th>\n      <th>rank</th>\n      <th>stdDev</th>\n      <th>word</th>\n    </tr>\n  </thead>\n  <tbody>\n    <tr>\n      <th>3520</th>\n      <td>1.30</td>\n      <td>10168</td>\n      <td>0.84</td>\n      <td>suicide</td>\n    </tr>\n    <tr>\n      <th>3521</th>\n      <td>1.30</td>\n      <td>10169</td>\n      <td>0.91</td>\n      <td>terrorist</td>\n    </tr>\n    <tr>\n      <th>3523</th>\n      <td>1.34</td>\n      <td>10171</td>\n      <td>0.66</td>\n      <td>coronavirus</td>\n    </tr>\n    <tr>\n      <th>3519</th>\n      <td>1.44</td>\n      <td>10167</td>\n      <td>0.79</td>\n      <td>rape</td>\n    </tr>\n    <tr>\n      <th>3518</th>\n      <td>1.48</td>\n      <td>10166</td>\n      <td>0.91</td>\n      <td>terrorism</td>\n    </tr>\n    <tr>\n      <th>3517</th>\n      <td>1.48</td>\n      <td>10165</td>\n      <td>1.01</td>\n      <td>murder</td>\n    </tr>\n    <tr>\n      <th>3516</th>\n      <td>1.54</td>\n      <td>10164</td>\n      <td>1.28</td>\n      <td>death</td>\n    </tr>\n    <tr>\n      <th>3515</th>\n      <td>1.54</td>\n      <td>10163</td>\n      <td>1.07</td>\n      <td>cancer</td>\n    </tr>\n    <tr>\n      <th>3512</th>\n      <td>1.56</td>\n      <td>10160</td>\n      <td>1.20</td>\n      <td>died</td>\n    </tr>\n    <tr>\n      <th>3513</th>\n      <td>1.56</td>\n      <td>10161</td>\n      <td>1.05</td>\n      <td>kill</td>\n    </tr>\n    <tr>\n      <th>3514</th>\n      <td>1.56</td>\n      <td>10162</td>\n      <td>1.23</td>\n      <td>killed</td>\n    </tr>\n    <tr>\n      <th>3511</th>\n      <td>1.58</td>\n      <td>10159</td>\n      <td>1.05</td>\n      <td>torture</td>\n    </tr>\n    <tr>\n      <th>3532</th>\n      <td>1.60</td>\n      <td>10180</td>\n      <td>1.01</td>\n      <td>pandemic</td>\n    </tr>\n    <tr>\n      <th>3524</th>\n      <td>1.60</td>\n      <td>10172</td>\n      <td>0.76</td>\n      <td>covid</td>\n    </tr>\n    <tr>\n      <th>3509</th>\n      <td>1.64</td>\n      <td>10157</td>\n      <td>1.14</td>\n      <td>deaths</td>\n    </tr>\n    <tr>\n      <th>3510</th>\n      <td>1.64</td>\n      <td>10158</td>\n      <td>1.43</td>\n      <td>raped</td>\n    </tr>\n    <tr>\n      <th>3508</th>\n      <td>1.64</td>\n      <td>10156</td>\n      <td>1.01</td>\n      <td>arrested</td>\n    </tr>\n    <tr>\n      <th>3507</th>\n      <td>1.70</td>\n      <td>10155</td>\n      <td>1.36</td>\n      <td>killing</td>\n    </tr>\n    <tr>\n      <th>3526</th>\n      <td>1.72</td>\n      <td>10174</td>\n      <td>0.99</td>\n      <td>epidemic</td>\n    </tr>\n    <tr>\n      <th>3522</th>\n      <td>1.72</td>\n      <td>10170</td>\n      <td>0.97</td>\n      <td>corona</td>\n    </tr>\n  </tbody>\n</table>\n</div>"
     },
     "metadata": {},
     "execution_count": 84
    }
   ],
   "source": [
    "df[is_min].sort_values(by=['happs']).head(20)"
   ]
  },
  {
   "cell_type": "code",
   "execution_count": 58,
   "metadata": {},
   "outputs": [
    {
     "output_type": "execute_result",
     "data": {
      "text/plain": [
       "              happs         rank        stdDev\n",
       "count  10187.000000  10187.00000  10187.000000\n",
       "mean       5.373276   5093.00000      1.380187\n",
       "std        1.092155   2940.87793      0.294701\n",
       "min        1.300000      0.00000      0.400000\n",
       "25%        4.900000   2546.50000      1.180000\n",
       "50%        5.440000   5093.00000      1.360000\n",
       "75%        6.020000   7639.50000      1.560000\n",
       "max        8.500000  10186.00000      2.930000"
      ],
      "text/html": "<div>\n<style scoped>\n    .dataframe tbody tr th:only-of-type {\n        vertical-align: middle;\n    }\n\n    .dataframe tbody tr th {\n        vertical-align: top;\n    }\n\n    .dataframe thead th {\n        text-align: right;\n    }\n</style>\n<table border=\"1\" class=\"dataframe\">\n  <thead>\n    <tr style=\"text-align: right;\">\n      <th></th>\n      <th>happs</th>\n      <th>rank</th>\n      <th>stdDev</th>\n    </tr>\n  </thead>\n  <tbody>\n    <tr>\n      <th>count</th>\n      <td>10187.000000</td>\n      <td>10187.00000</td>\n      <td>10187.000000</td>\n    </tr>\n    <tr>\n      <th>mean</th>\n      <td>5.373276</td>\n      <td>5093.00000</td>\n      <td>1.380187</td>\n    </tr>\n    <tr>\n      <th>std</th>\n      <td>1.092155</td>\n      <td>2940.87793</td>\n      <td>0.294701</td>\n    </tr>\n    <tr>\n      <th>min</th>\n      <td>1.300000</td>\n      <td>0.00000</td>\n      <td>0.400000</td>\n    </tr>\n    <tr>\n      <th>25%</th>\n      <td>4.900000</td>\n      <td>2546.50000</td>\n      <td>1.180000</td>\n    </tr>\n    <tr>\n      <th>50%</th>\n      <td>5.440000</td>\n      <td>5093.00000</td>\n      <td>1.360000</td>\n    </tr>\n    <tr>\n      <th>75%</th>\n      <td>6.020000</td>\n      <td>7639.50000</td>\n      <td>1.560000</td>\n    </tr>\n    <tr>\n      <th>max</th>\n      <td>8.500000</td>\n      <td>10186.00000</td>\n      <td>2.930000</td>\n    </tr>\n  </tbody>\n</table>\n</div>"
     },
     "metadata": {},
     "execution_count": 58
    }
   ],
   "source": [
    "df.describe()"
   ]
  },
  {
   "cell_type": "code",
   "execution_count": 57,
   "metadata": {},
   "outputs": [
    {
     "output_type": "error",
     "ename": "KeyError",
     "evalue": "('happs', 'word')",
     "traceback": [
      "\u001b[1;31m---------------------------------------------------------------------------\u001b[0m",
      "\u001b[1;31mKeyError\u001b[0m                                  Traceback (most recent call last)",
      "\u001b[1;32m~\\anaconda3\\lib\\site-packages\\pandas\\core\\indexes\\base.py\u001b[0m in \u001b[0;36mget_loc\u001b[1;34m(self, key, method, tolerance)\u001b[0m\n\u001b[0;32m   2645\u001b[0m             \u001b[1;32mtry\u001b[0m\u001b[1;33m:\u001b[0m\u001b[1;33m\u001b[0m\u001b[1;33m\u001b[0m\u001b[0m\n\u001b[1;32m-> 2646\u001b[1;33m                 \u001b[1;32mreturn\u001b[0m \u001b[0mself\u001b[0m\u001b[1;33m.\u001b[0m\u001b[0m_engine\u001b[0m\u001b[1;33m.\u001b[0m\u001b[0mget_loc\u001b[0m\u001b[1;33m(\u001b[0m\u001b[0mkey\u001b[0m\u001b[1;33m)\u001b[0m\u001b[1;33m\u001b[0m\u001b[1;33m\u001b[0m\u001b[0m\n\u001b[0m\u001b[0;32m   2647\u001b[0m             \u001b[1;32mexcept\u001b[0m \u001b[0mKeyError\u001b[0m\u001b[1;33m:\u001b[0m\u001b[1;33m\u001b[0m\u001b[1;33m\u001b[0m\u001b[0m\n",
      "\u001b[1;32mpandas\\_libs\\index.pyx\u001b[0m in \u001b[0;36mpandas._libs.index.IndexEngine.get_loc\u001b[1;34m()\u001b[0m\n",
      "\u001b[1;32mpandas\\_libs\\index.pyx\u001b[0m in \u001b[0;36mpandas._libs.index.IndexEngine.get_loc\u001b[1;34m()\u001b[0m\n",
      "\u001b[1;32mpandas\\_libs\\hashtable_class_helper.pxi\u001b[0m in \u001b[0;36mpandas._libs.hashtable.PyObjectHashTable.get_item\u001b[1;34m()\u001b[0m\n",
      "\u001b[1;32mpandas\\_libs\\hashtable_class_helper.pxi\u001b[0m in \u001b[0;36mpandas._libs.hashtable.PyObjectHashTable.get_item\u001b[1;34m()\u001b[0m\n",
      "\u001b[1;31mKeyError\u001b[0m: ('happs', 'word')",
      "\nDuring handling of the above exception, another exception occurred:\n",
      "\u001b[1;31mKeyError\u001b[0m                                  Traceback (most recent call last)",
      "\u001b[1;32m<ipython-input-57-694c88eca13e>\u001b[0m in \u001b[0;36m<module>\u001b[1;34m\u001b[0m\n\u001b[1;32m----> 1\u001b[1;33m \u001b[0mdf\u001b[0m\u001b[1;33m[\u001b[0m\u001b[1;34m'happs'\u001b[0m\u001b[1;33m,\u001b[0m \u001b[1;34m'word'\u001b[0m\u001b[1;33m]\u001b[0m\u001b[1;33m.\u001b[0m\u001b[0mmax\u001b[0m\u001b[1;33m(\u001b[0m\u001b[1;33m)\u001b[0m\u001b[1;33m\u001b[0m\u001b[1;33m\u001b[0m\u001b[0m\n\u001b[0m",
      "\u001b[1;32m~\\anaconda3\\lib\\site-packages\\pandas\\core\\frame.py\u001b[0m in \u001b[0;36m__getitem__\u001b[1;34m(self, key)\u001b[0m\n\u001b[0;32m   2798\u001b[0m             \u001b[1;32mif\u001b[0m \u001b[0mself\u001b[0m\u001b[1;33m.\u001b[0m\u001b[0mcolumns\u001b[0m\u001b[1;33m.\u001b[0m\u001b[0mnlevels\u001b[0m \u001b[1;33m>\u001b[0m \u001b[1;36m1\u001b[0m\u001b[1;33m:\u001b[0m\u001b[1;33m\u001b[0m\u001b[1;33m\u001b[0m\u001b[0m\n\u001b[0;32m   2799\u001b[0m                 \u001b[1;32mreturn\u001b[0m \u001b[0mself\u001b[0m\u001b[1;33m.\u001b[0m\u001b[0m_getitem_multilevel\u001b[0m\u001b[1;33m(\u001b[0m\u001b[0mkey\u001b[0m\u001b[1;33m)\u001b[0m\u001b[1;33m\u001b[0m\u001b[1;33m\u001b[0m\u001b[0m\n\u001b[1;32m-> 2800\u001b[1;33m             \u001b[0mindexer\u001b[0m \u001b[1;33m=\u001b[0m \u001b[0mself\u001b[0m\u001b[1;33m.\u001b[0m\u001b[0mcolumns\u001b[0m\u001b[1;33m.\u001b[0m\u001b[0mget_loc\u001b[0m\u001b[1;33m(\u001b[0m\u001b[0mkey\u001b[0m\u001b[1;33m)\u001b[0m\u001b[1;33m\u001b[0m\u001b[1;33m\u001b[0m\u001b[0m\n\u001b[0m\u001b[0;32m   2801\u001b[0m             \u001b[1;32mif\u001b[0m \u001b[0mis_integer\u001b[0m\u001b[1;33m(\u001b[0m\u001b[0mindexer\u001b[0m\u001b[1;33m)\u001b[0m\u001b[1;33m:\u001b[0m\u001b[1;33m\u001b[0m\u001b[1;33m\u001b[0m\u001b[0m\n\u001b[0;32m   2802\u001b[0m                 \u001b[0mindexer\u001b[0m \u001b[1;33m=\u001b[0m \u001b[1;33m[\u001b[0m\u001b[0mindexer\u001b[0m\u001b[1;33m]\u001b[0m\u001b[1;33m\u001b[0m\u001b[1;33m\u001b[0m\u001b[0m\n",
      "\u001b[1;32m~\\anaconda3\\lib\\site-packages\\pandas\\core\\indexes\\base.py\u001b[0m in \u001b[0;36mget_loc\u001b[1;34m(self, key, method, tolerance)\u001b[0m\n\u001b[0;32m   2646\u001b[0m                 \u001b[1;32mreturn\u001b[0m \u001b[0mself\u001b[0m\u001b[1;33m.\u001b[0m\u001b[0m_engine\u001b[0m\u001b[1;33m.\u001b[0m\u001b[0mget_loc\u001b[0m\u001b[1;33m(\u001b[0m\u001b[0mkey\u001b[0m\u001b[1;33m)\u001b[0m\u001b[1;33m\u001b[0m\u001b[1;33m\u001b[0m\u001b[0m\n\u001b[0;32m   2647\u001b[0m             \u001b[1;32mexcept\u001b[0m \u001b[0mKeyError\u001b[0m\u001b[1;33m:\u001b[0m\u001b[1;33m\u001b[0m\u001b[1;33m\u001b[0m\u001b[0m\n\u001b[1;32m-> 2648\u001b[1;33m                 \u001b[1;32mreturn\u001b[0m \u001b[0mself\u001b[0m\u001b[1;33m.\u001b[0m\u001b[0m_engine\u001b[0m\u001b[1;33m.\u001b[0m\u001b[0mget_loc\u001b[0m\u001b[1;33m(\u001b[0m\u001b[0mself\u001b[0m\u001b[1;33m.\u001b[0m\u001b[0m_maybe_cast_indexer\u001b[0m\u001b[1;33m(\u001b[0m\u001b[0mkey\u001b[0m\u001b[1;33m)\u001b[0m\u001b[1;33m)\u001b[0m\u001b[1;33m\u001b[0m\u001b[1;33m\u001b[0m\u001b[0m\n\u001b[0m\u001b[0;32m   2649\u001b[0m         \u001b[0mindexer\u001b[0m \u001b[1;33m=\u001b[0m \u001b[0mself\u001b[0m\u001b[1;33m.\u001b[0m\u001b[0mget_indexer\u001b[0m\u001b[1;33m(\u001b[0m\u001b[1;33m[\u001b[0m\u001b[0mkey\u001b[0m\u001b[1;33m]\u001b[0m\u001b[1;33m,\u001b[0m \u001b[0mmethod\u001b[0m\u001b[1;33m=\u001b[0m\u001b[0mmethod\u001b[0m\u001b[1;33m,\u001b[0m \u001b[0mtolerance\u001b[0m\u001b[1;33m=\u001b[0m\u001b[0mtolerance\u001b[0m\u001b[1;33m)\u001b[0m\u001b[1;33m\u001b[0m\u001b[1;33m\u001b[0m\u001b[0m\n\u001b[0;32m   2650\u001b[0m         \u001b[1;32mif\u001b[0m \u001b[0mindexer\u001b[0m\u001b[1;33m.\u001b[0m\u001b[0mndim\u001b[0m \u001b[1;33m>\u001b[0m \u001b[1;36m1\u001b[0m \u001b[1;32mor\u001b[0m \u001b[0mindexer\u001b[0m\u001b[1;33m.\u001b[0m\u001b[0msize\u001b[0m \u001b[1;33m>\u001b[0m \u001b[1;36m1\u001b[0m\u001b[1;33m:\u001b[0m\u001b[1;33m\u001b[0m\u001b[1;33m\u001b[0m\u001b[0m\n",
      "\u001b[1;32mpandas\\_libs\\index.pyx\u001b[0m in \u001b[0;36mpandas._libs.index.IndexEngine.get_loc\u001b[1;34m()\u001b[0m\n",
      "\u001b[1;32mpandas\\_libs\\index.pyx\u001b[0m in \u001b[0;36mpandas._libs.index.IndexEngine.get_loc\u001b[1;34m()\u001b[0m\n",
      "\u001b[1;32mpandas\\_libs\\hashtable_class_helper.pxi\u001b[0m in \u001b[0;36mpandas._libs.hashtable.PyObjectHashTable.get_item\u001b[1;34m()\u001b[0m\n",
      "\u001b[1;32mpandas\\_libs\\hashtable_class_helper.pxi\u001b[0m in \u001b[0;36mpandas._libs.hashtable.PyObjectHashTable.get_item\u001b[1;34m()\u001b[0m\n",
      "\u001b[1;31mKeyError\u001b[0m: ('happs', 'word')"
     ]
    }
   ],
   "source": [
    "df['happs', 'word'].max()"
   ]
  },
  {
   "cell_type": "code",
   "execution_count": 52,
   "metadata": {},
   "outputs": [],
   "source": [
    "df.to_csv('feeling_words_nlp')"
   ]
  },
  {
   "cell_type": "code",
   "execution_count": 53,
   "metadata": {},
   "outputs": [],
   "source": [
    "g.close()"
   ]
  },
  {
   "cell_type": "code",
   "execution_count": 54,
   "metadata": {},
   "outputs": [
    {
     "output_type": "execute_result",
     "data": {
      "text/plain": [
       "<_io.TextIOWrapper name='ranked_words_nlp.json' mode='r' encoding='cp1252'>"
      ]
     },
     "metadata": {},
     "execution_count": 54
    }
   ],
   "source": [
    "g"
   ]
  },
  {
   "cell_type": "code",
   "execution_count": null,
   "metadata": {},
   "outputs": [],
   "source": []
  }
 ],
 "metadata": {
  "kernelspec": {
   "display_name": "Python 3",
   "language": "python",
   "name": "python3"
  },
  "language_info": {
   "codemirror_mode": {
    "name": "ipython",
    "version": 3
   },
   "file_extension": ".py",
   "mimetype": "text/x-python",
   "name": "python",
   "nbconvert_exporter": "python",
   "pygments_lexer": "ipython3",
   "version": "3.8.3-final"
  }
 },
 "nbformat": 4,
 "nbformat_minor": 4
}